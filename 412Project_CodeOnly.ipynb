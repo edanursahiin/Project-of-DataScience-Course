{
  "nbformat": 4,
  "nbformat_minor": 0,
  "metadata": {
    "colab": {
      "provenance": [],
      "authorship_tag": "ABX9TyMF6CcrJW0OY2oFQPK+StiN",
      "include_colab_link": true
    },
    "kernelspec": {
      "name": "python3",
      "display_name": "Python 3"
    },
    "language_info": {
      "name": "python"
    }
  },
  "cells": [
    {
      "cell_type": "markdown",
      "metadata": {
        "id": "view-in-github",
        "colab_type": "text"
      },
      "source": [
        "<a href=\"https://colab.research.google.com/github/edanursahiin/Project-of-DataScience-Course/blob/main/412Project_CodeOnly.ipynb\" target=\"_parent\"><img src=\"https://colab.research.google.com/assets/colab-badge.svg\" alt=\"Open In Colab\"/></a>"
      ]
    },
    {
      "cell_type": "code",
      "execution_count": null,
      "metadata": {
        "id": "HhtwAIiwAjYA"
      },
      "outputs": [],
      "source": [
        "#firstly, we read the dataset\n",
        "\n",
        "project_data <- read.csv(\"sample_data/data.csv\", header = TRUE, sep = \",\")"
      ]
    },
    {
      "cell_type": "code",
      "source": [
        "#then, We aimed to change the column name with this code\n",
        "#in order not to experience difficulties in the coding part.\n",
        "\n",
        "colnames(project_data)[colnames(project_data) == \"AMOUNT..2020.USD.MILLION.\"] <- \"INVESTMENT\""
      ],
      "metadata": {
        "id": "XLFnb67tAwYH"
      },
      "execution_count": null,
      "outputs": []
    },
    {
      "cell_type": "code",
      "source": [
        "#the code snippet replaces any missing values (NA) or negative values in the project_data dataset with 0,\n",
        "#creating a modified data frame where these values are standardized to zero\n",
        "#for further analysis or data handling purposes.\n",
        "\n",
        "project_data <- data.frame(lapply(project_data, function(INVESTMENT) ifelse(is.na(INVESTMENT) | INVESTMENT < 0, 0, INVESTMENT)))"
      ],
      "metadata": {
        "id": "8YvnltciAx_n"
      },
      "execution_count": null,
      "outputs": []
    },
    {
      "cell_type": "code",
      "source": [
        "# Replace hyphen with underscore in CATEGORY column\n",
        "project_data$CATEGORY <- gsub(\"Non-renewables\", \"Non_renewables\", project_data$CATEGORY)"
      ],
      "metadata": {
        "id": "aOEEXN5RAzsG"
      },
      "execution_count": null,
      "outputs": []
    },
    {
      "cell_type": "code",
      "source": [
        "#the code transforms the columns in the project_data dataset into a factor,\n",
        "#allowing for the analysis of categorical data.\n",
        "#It then generates a table that displays the frequency of each factor level,\n",
        "#providing an overview of the distribution of different informations present in the dataset.\n",
        "\n",
        "project_data$CATEGORY <- factor(project_data$CATEGORY)\n",
        "table(project_data$CATEGORY)\n",
        "\n",
        "project_data$REGION <- factor(project_data$REGION)\n",
        "table(project_data$REGION)\n",
        "\n",
        "project_data$TECHNOLOGY <- factor(project_data$TECHNOLOGY)\n",
        "table(project_data$TECHNOLOGY)"
      ],
      "metadata": {
        "id": "fIEs2NSzA1H-"
      },
      "execution_count": null,
      "outputs": []
    },
    {
      "cell_type": "code",
      "source": [
        "#we checked if the informations true\n",
        "\n",
        "head(project_data)"
      ],
      "metadata": {
        "id": "jIWW2txiA3dU"
      },
      "execution_count": null,
      "outputs": []
    },
    {
      "cell_type": "code",
      "source": [
        "#we checked if the informations true\n",
        "tail(project_data)"
      ],
      "metadata": {
        "id": "wHHqpRTdA5C7"
      },
      "execution_count": null,
      "outputs": []
    },
    {
      "cell_type": "code",
      "source": [
        "#we checked the dataset again\n",
        "summary(project_data)\n",
        "str(project_data)"
      ],
      "metadata": {
        "id": "ABiGlQrkA6iu"
      },
      "execution_count": null,
      "outputs": []
    },
    {
      "cell_type": "code",
      "source": [
        "#first, we intall the packages that is needed.\n",
        "install.packages(\"dplyr\")\n",
        "install.packages(\"ggplot2\")\n",
        "install.packages(\"magrittr\")"
      ],
      "metadata": {
        "id": "FYSp-yvNA7-_"
      },
      "execution_count": null,
      "outputs": []
    },
    {
      "cell_type": "code",
      "source": [
        "library(dplyr)\n",
        "library(ggplot2)\n",
        "library(magrittr)"
      ],
      "metadata": {
        "id": "Mb1zkrUSA98i"
      },
      "execution_count": null,
      "outputs": []
    },
    {
      "cell_type": "code",
      "source": [
        "# Pie chart for investment by technology\n",
        "ggplot(project_data, aes(x = \"\", fill = TECHNOLOGY)) +\n",
        "  geom_bar(width = 1, color = \"white\") +\n",
        "  coord_polar(\"y\", start = 0) +\n",
        "  xlab(\"\") +\n",
        "  ylab(\"\") +\n",
        "  ggtitle(\"Investment by Technology\")"
      ],
      "metadata": {
        "id": "QMDFwGOlA_NT"
      },
      "execution_count": null,
      "outputs": []
    },
    {
      "cell_type": "code",
      "source": [
        "# Line plot for investment over time\n",
        "ggplot(project_data, aes(x = YEAR, y = INVESTMENT, group = 1)) +\n",
        "  geom_line() +\n",
        "  xlab(\"Year\") +\n",
        "  ylab(\"Investment Amount\") +\n",
        "  ggtitle(\"Investment Trend over Time\")"
      ],
      "metadata": {
        "id": "3Yp6HMtOBA8u"
      },
      "execution_count": null,
      "outputs": []
    },
    {
      "cell_type": "code",
      "source": [
        "# Stacked area plot for investment by region over time\n",
        "ggplot(project_data, aes(x = YEAR, y = INVESTMENT, fill = REGION)) +\n",
        "  geom_area() +\n",
        "  xlab(\"Year\") +\n",
        "  ylab(\"Cumulative Investment Amount\") +\n",
        "  ggtitle(\"Cumulative Investment by Region over Time\")"
      ],
      "metadata": {
        "id": "z0SlWtdfBClK"
      },
      "execution_count": null,
      "outputs": []
    },
    {
      "cell_type": "code",
      "source": [
        "#Which regions made the most investment in the energies technologies\n",
        "project_data %>%\n",
        "  aggregate(INVESTMENT ~ REGION, data = ., sum, na.rm = T) %>%\n",
        "  .[order(.$INVESTMENT, decreasing = T),] %>%\n",
        "  head (., n=7) %>%\n",
        "  ggplot(., aes(x=REGION, y=INVESTMENT)) + geom_bar(stat=\"identity\", fill=\"steelblue\") +\n",
        "  theme(axis.text.x = element_text(angle=45)) + xlab(\"REGIONS\") + ylab(\"Investment amount (in million USD)\") + ggtitle(\"Regions invested in energies\")"
      ],
      "metadata": {
        "id": "nBBoGqd_BEaY"
      },
      "execution_count": null,
      "outputs": []
    },
    {
      "cell_type": "code",
      "source": [
        "#This graph was printed out to see how much investment there is in which category.\n",
        "#Renewable vs Non_renewable\n",
        "\n",
        "combined_data <- rbind(\n",
        "  project_data[project_data$CATEGORY == \"Renewables\", ],\n",
        "  project_data[project_data$CATEGORY == \"Non_renewables\", ]\n",
        ")\n",
        "\n",
        "ggplot(combined_data, aes(x = CATEGORY, fill = CATEGORY)) +\n",
        "  geom_bar() +\n",
        "  labs(title = \"Renewable vs Non_renewable Category Chart\", x = \"Category\", y = \"Count\")"
      ],
      "metadata": {
        "id": "ecSro5_FBHUj"
      },
      "execution_count": null,
      "outputs": []
    },
    {
      "cell_type": "code",
      "source": [
        "#We have printed out this graph in order to examine the annual\n",
        "#change of investment amount according to technology types.\n",
        "\n",
        "# Change in investment over years in technologies\n",
        "technology_investment <- project_data %>%\n",
        "  aggregate(INVESTMENT ~ TECHNOLOGY, data = ., sum, na.rm = T) %>%\n",
        "  .[order(.$INVESTMENT, decreasing = T),] %>%\n",
        "  head (., n=7) %>% .$TECHNOLOGY"
      ],
      "metadata": {
        "id": "9qwPgm-BBJXq"
      },
      "execution_count": null,
      "outputs": []
    },
    {
      "cell_type": "code",
      "source": [
        "project_data %>%\n",
        "aggregate(INVESTMENT ~ YEAR + TECHNOLOGY, data=., sum, na.rm = T) %>% .[.$TECHNOLOGY %in% technology_investment,] %>%\n",
        "ggplot(., aes(x=YEAR, y=INVESTMENT, group=1)) + geom_line(colour = \"red\") + theme(axis.text.x = element_text(angle=90)) + xlab(\"YEAR\") + ylab(\"INVESTMENT\") + scale_y_log10() +\n",
        "  ggtitle(\"Change in investment over years in technologies\") + facet_wrap(\"TECHNOLOGY\")"
      ],
      "metadata": {
        "id": "03eA4aD7BLHq"
      },
      "execution_count": null,
      "outputs": []
    },
    {
      "cell_type": "code",
      "source": [
        "install.packages(\"neuralnet\")\n",
        "library(neuralnet)"
      ],
      "metadata": {
        "id": "HUotTsjHBPXP"
      },
      "execution_count": null,
      "outputs": []
    },
    {
      "cell_type": "code",
      "source": [
        "install.packages(\"caret\")\n",
        "library(caret)"
      ],
      "metadata": {
        "id": "ErhanIWqBRJg"
      },
      "execution_count": null,
      "outputs": []
    },
    {
      "cell_type": "code",
      "source": [
        "#Since most columns in our data consist of categories,\n",
        "#we converted it to numeric format to create the nn model.\n",
        "\n",
        "project_data$INVESTMENT <- as.numeric(project_data$INVESTMENT)\n",
        "\n",
        "project_data$YEAR <- as.numeric(project_data$YEAR)\n",
        "\n",
        "project_data$TECHNOLOGY <- as.numeric(project_data$TECHNOLOGY)\n",
        "\n",
        "project_data$CATEGORY <- as.numeric(project_data$CATEGORY)\n",
        "\n",
        "project_data$REGION <- as.numeric(project_data$REGION)"
      ],
      "metadata": {
        "id": "Ve5iOv3CBSmX"
      },
      "execution_count": null,
      "outputs": []
    },
    {
      "cell_type": "code",
      "source": [
        "str(project_data)"
      ],
      "metadata": {
        "id": "fMHi8-_pBUPy"
      },
      "execution_count": null,
      "outputs": []
    },
    {
      "cell_type": "code",
      "source": [
        "summary(project_data)"
      ],
      "metadata": {
        "id": "iCA5oamlBV7_"
      },
      "execution_count": null,
      "outputs": []
    },
    {
      "cell_type": "code",
      "source": [
        "# Set the seed for reproducibility\n",
        "set.seed(123)\n",
        "\n",
        "# Split the dataset into 80% training and 20% testing\n",
        "trainIndex <- createDataPartition(project_data$INVESTMENT, p = 0.8, list = FALSE)\n",
        "train_data <- project_data[trainIndex, ]\n",
        "test_data <- project_data[-trainIndex, ]"
      ],
      "metadata": {
        "id": "NzajFH93BXNn"
      },
      "execution_count": null,
      "outputs": []
    },
    {
      "cell_type": "code",
      "source": [
        "# Train the neural network\n",
        "neural_model <- neuralnet(INVESTMENT ~ REGION + CATEGORY + TECHNOLOGY, data = test_data, hidden = c(5, 3))"
      ],
      "metadata": {
        "id": "2cLPyA7WBY3n"
      },
      "execution_count": null,
      "outputs": []
    },
    {
      "cell_type": "code",
      "source": [
        "# Make predictions on the test set\n",
        "predictions <- predict(neural_model, newdata = test_data)\n",
        "\n",
        "# Calculate the mean squared error\n",
        "mse <- mean((test_data$INVESTMENT - predictions)^2)\n",
        "mse"
      ],
      "metadata": {
        "id": "JLulLTZuBaNA"
      },
      "execution_count": null,
      "outputs": []
    },
    {
      "cell_type": "code",
      "source": [
        "plot(neural_model, rep=1)"
      ],
      "metadata": {
        "id": "wB-ijHIRBbsm"
      },
      "execution_count": null,
      "outputs": []
    },
    {
      "cell_type": "code",
      "source": [
        "print(neural_model)"
      ],
      "metadata": {
        "id": "Ts5Is6q6BdE0"
      },
      "execution_count": null,
      "outputs": []
    },
    {
      "cell_type": "code",
      "source": [
        "install.packages(\"nnet\")\n",
        "library(nnet)"
      ],
      "metadata": {
        "id": "FsglXNtYBei3"
      },
      "execution_count": null,
      "outputs": []
    },
    {
      "cell_type": "code",
      "source": [
        "#These codes are used to create and train a neural network model using a dataset consisting of both training and test data.\n",
        "\n",
        "\n",
        "# Combine the train and test data for training the model on the entire dataset\n",
        "full_data <- rbind(train_data, test_data)\n",
        "\n",
        "# Create a neural net\n",
        "work model using the full dataset\n",
        "neural_model_full <- nnet(INVESTMENT ~ ., data = full_data, size = 5, maxit = 100)"
      ],
      "metadata": {
        "id": "9o1YaIhGBgSw"
      },
      "execution_count": null,
      "outputs": []
    },
    {
      "cell_type": "code",
      "source": [
        "#This code is used to make predictions with a trained neural network model on a new dataset.\n",
        "\n",
        "# Make future predictions for a new dataset\n",
        "new_data <- data.frame(REGION = 4,\n",
        "                       TECHNOLOGY = 4,\n",
        "                       YEAR = 2024,\n",
        "                       CATEGORY = 2)\n",
        "new_predictions <- predict(neural_model, newdata = new_data)\n",
        "new_predictions"
      ],
      "metadata": {
        "id": "RqeDwTZlBidC"
      },
      "execution_count": null,
      "outputs": []
    }
  ]
}